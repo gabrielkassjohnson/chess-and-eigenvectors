{
 "cells": [
  {
   "cell_type": "code",
   "execution_count": 1,
   "metadata": {},
   "outputs": [],
   "source": [
    "import chess.pgn\n",
    "import pandas as pd\n",
    "import chess\n",
    "import numpy as np\n",
    "from scipy import linalg"
   ]
  },
  {
   "cell_type": "code",
   "execution_count": 2,
   "metadata": {},
   "outputs": [
    {
     "name": "stdout",
     "output_type": "stream",
     "text": [
      "total 90M\r\n",
      " 16K README.md                              572K chess.ipynb\r\n",
      " 89M lichess_db_standard_rated_2013-01.pgn   52K chess-and-eigenvectors.ipynb\r\n"
     ]
    }
   ],
   "source": [
    "ls -shr"
   ]
  },
  {
   "cell_type": "code",
   "execution_count": 3,
   "metadata": {},
   "outputs": [],
   "source": [
    "board = chess.Board()"
   ]
  },
  {
   "cell_type": "code",
   "execution_count": 4,
   "metadata": {},
   "outputs": [],
   "source": [
    "pgn = open('lichess_db_standard_rated_2013-01.pgn',encoding=\"utf-8\")"
   ]
  },
  {
   "cell_type": "code",
   "execution_count": 5,
   "metadata": {},
   "outputs": [],
   "source": [
    "#creates a list with one entry for each space on the board\n",
    "spaces = []\n",
    "for i in range(1,9):\n",
    "    for j in range (1,9):\n",
    "        spaces.append(chr(j+96)+str(i))"
   ]
  },
  {
   "cell_type": "code",
   "execution_count": 6,
   "metadata": {},
   "outputs": [],
   "source": [
    "#create a matrix to tally weights for every pair of opposing pieces\n",
    "pieces_list = [space for space in spaces if any(map(space.__contains__, ['1','2','7','8']))]\n",
    "weights = pd.DataFrame(0,index=pieces_list, columns=pieces_list)"
   ]
  },
  {
   "cell_type": "code",
   "execution_count": 7,
   "metadata": {},
   "outputs": [
    {
     "data": {
      "text/plain": [
       "{'a1': 'a1',\n",
       " 'b1': 'b1',\n",
       " 'c1': 'c1',\n",
       " 'd1': 'd1',\n",
       " 'e1': 'e1',\n",
       " 'f1': 'f1',\n",
       " 'g1': 'g1',\n",
       " 'h1': 'h1',\n",
       " 'a2': 'a2',\n",
       " 'b2': 'b2',\n",
       " 'c2': 'c2',\n",
       " 'd2': 'd2',\n",
       " 'e2': 'e2',\n",
       " 'f2': 'f2',\n",
       " 'g2': 'g2',\n",
       " 'h2': 'h2',\n",
       " 'a3': None,\n",
       " 'b3': None,\n",
       " 'c3': None,\n",
       " 'd3': None,\n",
       " 'e3': None,\n",
       " 'f3': None,\n",
       " 'g3': None,\n",
       " 'h3': None,\n",
       " 'a4': None,\n",
       " 'b4': None,\n",
       " 'c4': None,\n",
       " 'd4': None,\n",
       " 'e4': None,\n",
       " 'f4': None,\n",
       " 'g4': None,\n",
       " 'h4': None,\n",
       " 'a5': None,\n",
       " 'b5': None,\n",
       " 'c5': None,\n",
       " 'd5': None,\n",
       " 'e5': None,\n",
       " 'f5': None,\n",
       " 'g5': None,\n",
       " 'h5': None,\n",
       " 'a6': None,\n",
       " 'b6': None,\n",
       " 'c6': None,\n",
       " 'd6': None,\n",
       " 'e6': None,\n",
       " 'f6': None,\n",
       " 'g6': None,\n",
       " 'h6': None,\n",
       " 'a7': 'a7',\n",
       " 'b7': 'b7',\n",
       " 'c7': 'c7',\n",
       " 'd7': 'd7',\n",
       " 'e7': 'e7',\n",
       " 'f7': 'f7',\n",
       " 'g7': 'g7',\n",
       " 'h7': 'h7',\n",
       " 'a8': 'a8',\n",
       " 'b8': 'b8',\n",
       " 'c8': 'c8',\n",
       " 'd8': 'd8',\n",
       " 'e8': 'e8',\n",
       " 'f8': 'f8',\n",
       " 'g8': 'g8',\n",
       " 'h8': 'h8'}"
      ]
     },
     "execution_count": 7,
     "metadata": {},
     "output_type": "execute_result"
    }
   ],
   "source": [
    "#create a state dictionary of each square and the initial square of each piece\n",
    "#Those 'None' entries are the empty squares in the middle of the board, before the first move\n",
    "#Each piece is on it's own square to begin\n",
    "state_dict = {space:(space  if any(map(space.__contains__, ['1','2','7','8'])) else None) for space  in spaces}\n",
    "state_dict"
   ]
  },
  {
   "cell_type": "code",
   "execution_count": null,
   "metadata": {},
   "outputs": [],
   "source": [
    "game_counter = 0\n",
    "total_move_counter = 0\n",
    "game = chess.pgn.read_game(pgn)\n",
    "\n",
    "while game is not None:\n",
    "    counter = 0\n",
    "    state_dict = {space:(space  if any(map(space.__contains__, ['1','2','7','8'])) else None) for space  in spaces}\n",
    "\n",
    "    #print(game)\n",
    "    #do stuff here\n",
    "\n",
    "\n",
    "\n",
    "    #for each line in the file\n",
    "    for move in game.mainline_moves():\n",
    "        counter += 1\n",
    "        if board.is_pseudo_legal(move):\n",
    "\n",
    "\n",
    "            if board.is_capture(move):\n",
    "                capturing_piece = state_dict[chess.square_name(move.from_square)]\n",
    "                captured_piece = state_dict[chess.square_name(move.to_square)]\n",
    "                #print('capturing piece',capturing_piece)\n",
    "                #print('captured piece',captured_piece)\n",
    "\n",
    "                if board.is_en_passant(move):\n",
    "                    #do en passant stuff here\n",
    "                    #print(\"en passant\")\n",
    "                    pass\n",
    "                elif capturing_piece is not None:\n",
    "                    if captured_piece is not None:\n",
    "\n",
    "                        #record the kill in a matrix of all kills\n",
    "                        #print(counter,chess.square_name(move.from_square), \"takes on\",chess.square_name(move.to_square))\n",
    "                        #print(counter,state_dict[chess.square_name(move.from_square)], \"takes\",state_dict[chess.square_name(move.to_square)])\n",
    "\n",
    "                        #what piece is there now?\n",
    "                     \n",
    "\n",
    "                        #increment an entry in the weights matrix when one piece takes another\n",
    "                        weights.loc[state_dict[chess.square_name(move.from_square)],state_dict[chess.square_name(move.to_square)]] += 1\n",
    "\n",
    "                        #update the piece on the target square\n",
    "                        state_dict[chess.square_name(move.to_square)] = state_dict[chess.square_name(move.from_square)]\n",
    "\n",
    "                        #update the source square to be empty\n",
    "                        state_dict[chess.square_name(move.from_square)] = None\n",
    "\n",
    "                        #board.push(move)  # Make the move\n",
    "\n",
    "\n",
    "                        #if df.loc[i+1,'move_no'] == 1:\n",
    "                        #    state_dict = {space:(space  if any(map(space.__contains__, ['1','2','7','8'])) else None) for space  in spaces}\n",
    "\n",
    "            else:\n",
    "\n",
    "\n",
    "                #add castling special cases to record both moves\n",
    "                if board.is_kingside_castling(move):\n",
    "                    if board.turn:\n",
    "                        #print(counter,'... and white castles kingside')\n",
    "                        #move the appopriate rook\n",
    "                        state_dict['f1'] = 'h1'\n",
    "                        #leaving the rook source square empty\n",
    "                        state_dict['h1'] = 'None'\n",
    "                        #board.push(move)  # Make the move\n",
    "\n",
    "\n",
    "\n",
    "                    elif not board.turn:\n",
    "                        #print(counter,'... and black castles kingside')\n",
    "                        #move the appopriate rook\n",
    "                        state_dict['f8'] = 'h8'\n",
    "                        #leaving the rook source square empty\n",
    "                        state_dict['h8'] = 'None'\n",
    "                        #board.push(move)  # Make the move\n",
    "\n",
    "                elif board.is_queenside_castling(move):\n",
    "                    if board.turn:\n",
    "                        #print(counter,'... and white castles queenside')\n",
    "                        #move the appopriate rook\n",
    "                        state_dict['d1'] = 'a1'\n",
    "                        #leaving the rook source square empty\n",
    "                        state_dict['a1'] = 'None'\n",
    "                        #board.push(move)  # Make the move\n",
    "\n",
    "                    elif not board.turn:\n",
    "                        #print(counter,'... and black castles queenside')\n",
    "                        #move the appopriate rook\n",
    "                        state_dict['d8'] = 'a8'\n",
    "                        #leaving the rook source square empty\n",
    "                        state_dict['a8'] = 'None'\n",
    "                        #board.push(move)  # Make the move\n",
    "\n",
    "                else:\n",
    "                    #update the piece on the target square\n",
    "                    state_dict[chess.square_name(move.to_square)] = state_dict[chess.square_name(move.from_square)]\n",
    "\n",
    "                    #update the source square to be empty\n",
    "                    state_dict[chess.square_name(move.from_square)] = None\n",
    "\n",
    "\n",
    "                    #print(counter, chess.square_name(move.from_square),chess.square_name(move.to_square))\n",
    "\n",
    "        board.push(move)  # Make the move\n",
    "        #print(state_dict)\n",
    "            \n",
    "    if board.is_checkmate():\n",
    "        checkers_list = [state_dict[chess.square_name(x)] for x in list(board.checkers())]\n",
    "        if checkers_list[0] is not None:\n",
    "            piece_giving_check = str(checkers_list[0])\n",
    "\n",
    "            if board.turn:\n",
    "                captured_king = 'e1'\n",
    "            else:\n",
    "                captured_king = 'e8'\n",
    "            weights.loc[piece_giving_check,captured_king] += 1\n",
    "\n",
    "    \n",
    "    game_counter += 1\n",
    "    #print('end of game',game_counter)\n",
    "    \n",
    "    total_move_counter += counter\n",
    "    #print('total moves analyzed',total_move_counter)\n",
    "\n",
    "    \n",
    "    #print('board outcome',board.outcome())\n",
    "\n",
    "\n",
    "    #print('is game over?',board.is_game_over())\n",
    "    board.reset()\n",
    "\n",
    "    game = chess.pgn.read_game(pgn)\n",
    "\n",
    "\n",
    "\n",
    "\n",
    "    #print(state_dict)\n",
    "\n",
    "    "
   ]
  },
  {
   "cell_type": "code",
   "execution_count": null,
   "metadata": {},
   "outputs": [],
   "source": [
    "print(game_counter,'games analyzed')\n",
    "print(total_move_counter,'moves analyzed')"
   ]
  },
  {
   "cell_type": "code",
   "execution_count": null,
   "metadata": {},
   "outputs": [],
   "source": [
    "weights"
   ]
  },
  {
   "cell_type": "code",
   "execution_count": null,
   "metadata": {},
   "outputs": [],
   "source": [
    "#subtracting the identity matrix is necessary, forming an implicit set of homogeneous equations\n",
    "a = weights - np.identity(32)\n",
    "#print(a)"
   ]
  },
  {
   "cell_type": "code",
   "execution_count": null,
   "metadata": {},
   "outputs": [],
   "source": [
    "b = np.zeros(32)\n",
    "#print(b)"
   ]
  },
  {
   "cell_type": "code",
   "execution_count": null,
   "metadata": {},
   "outputs": [],
   "source": [
    "x = linalg.solve(a, b)\n",
    "x"
   ]
  },
  {
   "cell_type": "markdown",
   "metadata": {},
   "source": [
    "### Why doesn't it work?\n",
    "### Because the solver is finding the trivial solution. i.e. just a vector full of zeroes.\n",
    "### To check that there is actually a non trivial solution, the determinant of A must be non-zero."
   ]
  },
  {
   "cell_type": "code",
   "execution_count": null,
   "metadata": {},
   "outputs": [],
   "source": [
    "np.linalg.det(a)"
   ]
  },
  {
   "cell_type": "markdown",
   "metadata": {},
   "source": [
    "### OK since the determinant is not zero, there must be at least one non-trivial solution. How to find it?\n",
    "### An homogenous linear equation can be solved by finding the eigenvectors."
   ]
  },
  {
   "cell_type": "code",
   "execution_count": null,
   "metadata": {},
   "outputs": [],
   "source": [
    "eigen_values, eigen_vectors = np.linalg.eig(a)  \n",
    "eigen_vectors"
   ]
  },
  {
   "cell_type": "code",
   "execution_count": null,
   "metadata": {},
   "outputs": [],
   "source": [
    "values = eigen_vectors[:, np.argmax(eigen_values)] \n",
    "values\n",
    "#Notice that the entries of the eigenvector corresponding to the largest eigenvalue are all real valued,\n",
    "#So it's OK to throw away the imaginary component"
   ]
  },
  {
   "cell_type": "code",
   "execution_count": null,
   "metadata": {},
   "outputs": [],
   "source": [
    "## Let's normalize the values\n"
   ]
  },
  {
   "cell_type": "code",
   "execution_count": null,
   "metadata": {},
   "outputs": [],
   "source": [
    "list = []\n",
    "for i in values:\n",
    "    list.append(abs(float(i)))"
   ]
  },
  {
   "cell_type": "code",
   "execution_count": null,
   "metadata": {},
   "outputs": [],
   "source": [
    "#The fractional inverse of the average of all the pawns\n",
    "factor = 1 / np.mean(list[8:24])"
   ]
  },
  {
   "cell_type": "code",
   "execution_count": null,
   "metadata": {},
   "outputs": [],
   "source": [
    "normed = [i*factor for i in list]\n",
    "#normed"
   ]
  },
  {
   "cell_type": "code",
   "execution_count": null,
   "metadata": {},
   "outputs": [],
   "source": [
    "normalized_list = [\"%.2f\"%i for i in normed]"
   ]
  },
  {
   "cell_type": "code",
   "execution_count": null,
   "metadata": {
    "scrolled": true
   },
   "outputs": [],
   "source": [
    "print(normalized_list[24:32])\n",
    "print(normalized_list[16:24])\n",
    "print(normalized_list[8:16])\n",
    "print(normalized_list[0:8])\n"
   ]
  },
  {
   "cell_type": "code",
   "execution_count": null,
   "metadata": {},
   "outputs": [],
   "source": [
    "#tempo difference\n",
    "white_sum = sum(normed[0:16])\n",
    "black_sum = sum(normed[16:32])\n",
    "\n",
    "\n",
    "print('total value of white pieces is', white_sum)\n",
    "print('total value of black pieces is', black_sum)\n",
    "print('total difference in value between white and black pieces is', white_sum-black_sum)\n",
    "#This implies that white's tempo advantage is worth about 3 thousandths of an average pawn."
   ]
  },
  {
   "cell_type": "code",
   "execution_count": null,
   "metadata": {},
   "outputs": [],
   "source": [
    "#Notice that, for each pair of opposing pawns, the black pawn is stronger in 7 out of 8 pairs\n",
    "#Why should this be? Possibly because white has the initial tempo for attacking early in the game,\n",
    "#giving the black pawns many opportunities for capturing pieces defensively, and practically necessitating it."
   ]
  },
  {
   "cell_type": "code",
   "execution_count": null,
   "metadata": {},
   "outputs": [],
   "source": [
    "#find average strength of all the pieces taken by each piece\n",
    "#eg, rook strength seems low in general, probably because they come out later in the game\n",
    "#and have fewer opportunities to capture lots of pieces,\n",
    "#but they probably capture, on average, stronger pieces, in proportion to their own strength "
   ]
  },
  {
   "cell_type": "code",
   "execution_count": null,
   "metadata": {},
   "outputs": [],
   "source": [
    "#Try a Matrix Decomposition"
   ]
  },
  {
   "cell_type": "code",
   "execution_count": null,
   "metadata": {},
   "outputs": [],
   "source": [
    "U, D, V = np.linalg.svd(a, full_matrices=True)"
   ]
  },
  {
   "cell_type": "code",
   "execution_count": null,
   "metadata": {},
   "outputs": [],
   "source": [
    "D"
   ]
  },
  {
   "cell_type": "code",
   "execution_count": null,
   "metadata": {},
   "outputs": [],
   "source": []
  }
 ],
 "metadata": {
  "kernelspec": {
   "display_name": "Python 3",
   "language": "python",
   "name": "python3"
  },
  "language_info": {
   "codemirror_mode": {
    "name": "ipython",
    "version": 3
   },
   "file_extension": ".py",
   "mimetype": "text/x-python",
   "name": "python",
   "nbconvert_exporter": "python",
   "pygments_lexer": "ipython3",
   "version": "3.9.7"
  }
 },
 "nbformat": 4,
 "nbformat_minor": 4
}
